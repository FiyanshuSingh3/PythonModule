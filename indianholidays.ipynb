{
 "cells": [
  {
   "cell_type": "code",
   "execution_count": 1,
   "id": "a510009c-47c6-4758-99c5-2b63ed103386",
   "metadata": {},
   "outputs": [],
   "source": [
    "import indian_holidays"
   ]
  },
  {
   "cell_type": "code",
   "execution_count": 9,
   "id": "1c7aff29-3bc7-43f2-a725-d647293d3ce4",
   "metadata": {},
   "outputs": [
    {
     "name": "stdout",
     "output_type": "stream",
     "text": [
      "All Indian Holidays in 2024:\n",
      "Republic Day: 2024-01-26\n",
      "Independence Day: 2024-08-15\n",
      "Gandhi Jayanti: 2024-10-02\n",
      "Christmas: 2024-12-25\n",
      "Diwali: 2024-11-12\n",
      "Eid al-Fitr: 2024-06-17\n",
      "\n",
      "Is today (2024-11-18) a holiday? No\n",
      "\n",
      "Updated Holidays List:\n",
      "Republic Day: 2024-01-26\n",
      "Independence Day: 2024-08-15\n",
      "Gandhi Jayanti: 2024-10-02\n",
      "Christmas: 2024-12-25\n",
      "Custom Festival: 2024-12-31\n",
      "Diwali: 2024-11-12\n",
      "Eid al-Fitr: 2024-06-17\n"
     ]
    }
   ],
   "source": [
    "from indian_holidays import IndianHolidayCalendar\n",
    "from datetime import date\n",
    "\n",
    "          # Create an instance of the holiday calendar for 2024\n",
    "holiday_calendar = IndianHolidayCalendar(2024)\n",
    "\n",
    "              # Get all holidays\n",
    "print(\"All Indian Holidays in 2024:\")\n",
    "all_holidays = holiday_calendar.get_all_holidays()\n",
    "for name, holiday_date in all_holidays.items():\n",
    "    print(f\"{name}: {holiday_date}\")\n",
    "\n",
    "# Check if today is a holiday\n",
    "today = date.today()\n",
    "is_today_holiday = holiday_calendar.is_holiday(today)\n",
    "print(f\"\\nIs today ({today}) a holiday? {'Yes' if is_today_holiday else 'No'}\")\n",
    "\n",
    "# Add a custom holiday\n",
    "holiday_calendar.add_custom_holiday(\"Custom Festival\", date(2024, 12, 31))\n",
    "print(\"\\nUpdated Holidays List:\")\n",
    "for name, holiday_date in holiday_calendar.get_all_holidays().items():\n",
    "    print(f\"{name}: {holiday_date}\")\n"
   ]
  },
  {
   "cell_type": "code",
   "execution_count": null,
   "id": "9b47ccbb-4331-4b12-b8d6-9c585e6de31b",
   "metadata": {},
   "outputs": [],
   "source": []
  },
  {
   "cell_type": "code",
   "execution_count": null,
   "id": "9b5d09b0-1239-495e-9c18-5783a7f9a18d",
   "metadata": {},
   "outputs": [],
   "source": []
  }
 ],
 "metadata": {
  "kernelspec": {
   "display_name": "Python 3 (ipykernel)",
   "language": "python",
   "name": "python3"
  },
  "language_info": {
   "codemirror_mode": {
    "name": "ipython",
    "version": 3
   },
   "file_extension": ".py",
   "mimetype": "text/x-python",
   "name": "python",
   "nbconvert_exporter": "python",
   "pygments_lexer": "ipython3",
   "version": "3.12.4"
  }
 },
 "nbformat": 4,
 "nbformat_minor": 5
}
